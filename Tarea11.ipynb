{
 "cells": [
  {
   "cell_type": "markdown",
   "metadata": {},
   "source": [
    "__Ejercicio 1:__. Implementa el método de Euler en `Julia`. Debe ser de la forma `metodo_euler(f,x0,t0,tf,h)`. No olvide que no debe de utilizar `SymPy` de ningún modo en este ejercicio. Naturalmente la función `f` es de dos variables. El _output_ de la función debe ser `return listt,listx`. Otra forma quizá más inteligente de implementarlo es definir desde antes `listt`, y que los inputs del método sean de la forma: `metodo_euler(f,x0,listt)`, naturalmente en `listt` va el tiempo inicial $t_0$ y el paso $h$ que utilizará el método.\n",
    "* Pruebe su nuevo método resolviendo la ecuación:\n",
    "$$\\frac{dx}{dt}=-\\alpha x, x(0)=1\\text{ y }2, \\text{ y } t\\in(0,8).$$\n",
    "con $\\alpha>0$, pruebenlo para $\\alpha=2.5$, $h=1.0,0.5,0.2,0.01$.\n",
    "* Gráfique la solución que obtuvo junto con la curva de la solución exacta, asegúrese de que los puntos de la solución aparezcán unidos en la gráfica para obtener una mejor perspectiva. Haga una gráfica para cada condición inicial, que incluya todos los diferentes pasos usados (excepto $h=1$, este gráfiquelo aparte para cada caso), la idea aquí es ver como nos aproximamos a la solución exacta conforme tomamos $h$'s más pequeños."
   ]
  },
  {
   "cell_type": "code",
   "execution_count": 33,
   "metadata": {
    "collapsed": false
   },
   "outputs": [
    {
     "data": {
      "text/plain": [
       "euler (generic function with 1 method)"
      ]
     },
     "execution_count": 33,
     "metadata": {},
     "output_type": "execute_result"
    }
   ],
   "source": [
    "function euler(f,xo,to,tf,h)\n",
    "    x=xo\n",
    "    listx=[]\n",
    "    push!(listx,x)\n",
    "    listt=linspace(to,tf,round((tf-to)/h+1))\n",
    "    \n",
    "    \n",
    "    for i in 1:length(listt)\n",
    "        x=x+f(x,listt[i])*h\n",
    "        t=i*h\n",
    "        push!(listx,x)\n",
    "    end\n",
    "    \n",
    "    return listx, listt\n",
    "end"
   ]
  },
  {
   "cell_type": "code",
   "execution_count": 34,
   "metadata": {
    "collapsed": false
   },
   "outputs": [
    {
     "data": {
      "text/plain": [
       "f (generic function with 2 methods)"
      ]
     },
     "execution_count": 34,
     "metadata": {},
     "output_type": "execute_result"
    }
   ],
   "source": [
    "function f(x)     #nos pide probar para la función -ax donde a=2.5\n",
    "    return -2.5*x\n",
    "end"
   ]
  },
  {
   "cell_type": "code",
   "execution_count": 35,
   "metadata": {
    "collapsed": false
   },
   "outputs": [
    {
     "data": {
      "text/plain": [
       "(Any[1, -1.5, 2.25, -3.375, 5.0625, -7.59375, 11.3906, -17.0859, 25.6289, -38.4434], 0.0:1.0:8.0)"
      ]
     },
     "execution_count": 35,
     "metadata": {},
     "output_type": "execute_result"
    }
   ],
   "source": [
    "euler(f,1,0,8,1)"
   ]
  },
  {
   "cell_type": "code",
   "execution_count": 36,
   "metadata": {
    "collapsed": false
   },
   "outputs": [
    {
     "data": {
      "text/plain": [
       "(Any[2, -3.0, 4.5, -6.75, 10.125, -15.1875, 22.7813, -34.1719, 51.2578, -76.8867], 0.0:1.0:8.0)"
      ]
     },
     "execution_count": 36,
     "metadata": {},
     "output_type": "execute_result"
    }
   ],
   "source": [
    "euler(f,2,0,8,1)"
   ]
  },
  {
   "cell_type": "code",
   "execution_count": 44,
   "metadata": {
    "collapsed": true
   },
   "outputs": [],
   "source": [
    "euler(f,1,0,8,0.5);  #cambiamos los valores de h para x0=1 \n",
    "euler(f,1,0,8,0.2);\n",
    "euler(f,1,0,8,0.1);\n"
   ]
  },
  {
   "cell_type": "code",
   "execution_count": 45,
   "metadata": {
    "collapsed": false
   },
   "outputs": [
    {
     "ename": "LoadError",
     "evalue": "\u001b[91mPyError (ccall(@pysym(:PyObject_Call), PyPtr, (PyPtr, PyPtr, PyPtr), o, arg, kw)) <type 'exceptions.ValueError'>\nValueError(u'x and y must have same first dimension, but have shapes (1000,) and (1,)',)\n  File \"/usr/local/lib/python2.7/dist-packages/matplotlib/pyplot.py\", line 3317, in plot\n    ret = ax.plot(*args, **kwargs)\n  File \"/usr/local/lib/python2.7/dist-packages/matplotlib/__init__.py\", line 1898, in inner\n    return func(ax, *args, **kwargs)\n  File \"/usr/local/lib/python2.7/dist-packages/matplotlib/axes/_axes.py\", line 1406, in plot\n    for line in self._get_lines(*args, **kwargs):\n  File \"/usr/local/lib/python2.7/dist-packages/matplotlib/axes/_base.py\", line 407, in _grab_next_args\n    for seg in self._plot_args(remaining, kwargs):\n  File \"/usr/local/lib/python2.7/dist-packages/matplotlib/axes/_base.py\", line 385, in _plot_args\n    x, y = self._xy_from_xy(x, y)\n  File \"/usr/local/lib/python2.7/dist-packages/matplotlib/axes/_base.py\", line 244, in _xy_from_xy\n    \"have shapes {} and {}\".format(x.shape, y.shape))\n\u001b[39m",
     "output_type": "error",
     "traceback": [
      "\u001b[91mPyError (ccall(@pysym(:PyObject_Call), PyPtr, (PyPtr, PyPtr, PyPtr), o, arg, kw)) <type 'exceptions.ValueError'>\nValueError(u'x and y must have same first dimension, but have shapes (1000,) and (1,)',)\n  File \"/usr/local/lib/python2.7/dist-packages/matplotlib/pyplot.py\", line 3317, in plot\n    ret = ax.plot(*args, **kwargs)\n  File \"/usr/local/lib/python2.7/dist-packages/matplotlib/__init__.py\", line 1898, in inner\n    return func(ax, *args, **kwargs)\n  File \"/usr/local/lib/python2.7/dist-packages/matplotlib/axes/_axes.py\", line 1406, in plot\n    for line in self._get_lines(*args, **kwargs):\n  File \"/usr/local/lib/python2.7/dist-packages/matplotlib/axes/_base.py\", line 407, in _grab_next_args\n    for seg in self._plot_args(remaining, kwargs):\n  File \"/usr/local/lib/python2.7/dist-packages/matplotlib/axes/_base.py\", line 385, in _plot_args\n    x, y = self._xy_from_xy(x, y)\n  File \"/usr/local/lib/python2.7/dist-packages/matplotlib/axes/_base.py\", line 244, in _xy_from_xy\n    \"have shapes {} and {}\".format(x.shape, y.shape))\n\u001b[39m",
      "",
      "Stacktrace:",
      " [1] \u001b[1mpyerr_check\u001b[22m\u001b[22m at \u001b[1m/home/juser/.julia/v0.6/PyCall/src/exception.jl:56\u001b[22m\u001b[22m [inlined]",
      " [2] \u001b[1mpyerr_check\u001b[22m\u001b[22m at \u001b[1m/home/juser/.julia/v0.6/PyCall/src/exception.jl:61\u001b[22m\u001b[22m [inlined]",
      " [3] \u001b[1mmacro expansion\u001b[22m\u001b[22m at \u001b[1m/home/juser/.julia/v0.6/PyCall/src/exception.jl:81\u001b[22m\u001b[22m [inlined]",
      " [4] \u001b[1m#_pycall#66\u001b[22m\u001b[22m\u001b[1m(\u001b[22m\u001b[22m::Array{Any,1}, ::Function, ::PyCall.PyObject, ::StepRangeLen{Float64,Base.TwicePrecision{Float64},Base.TwicePrecision{Float64}}, ::Vararg{Any,N} where N\u001b[1m)\u001b[22m\u001b[22m at \u001b[1m/home/juser/.julia/v0.6/PyCall/src/PyCall.jl:601\u001b[22m\u001b[22m",
      " [5] \u001b[1m(::PyCall.#kw##_pycall)\u001b[22m\u001b[22m\u001b[1m(\u001b[22m\u001b[22m::Array{Any,1}, ::PyCall.#_pycall, ::PyCall.PyObject, ::StepRangeLen{Float64,Base.TwicePrecision{Float64},Base.TwicePrecision{Float64}}, ::Vararg{Any,N} where N\u001b[1m)\u001b[22m\u001b[22m at \u001b[1m./<missing>:0\u001b[22m\u001b[22m",
      " [6] \u001b[1m#pycall#70\u001b[22m\u001b[22m\u001b[1m(\u001b[22m\u001b[22m::Array{Any,1}, ::Function, ::PyCall.PyObject, ::Type{PyCall.PyAny}, ::StepRangeLen{Float64,Base.TwicePrecision{Float64},Base.TwicePrecision{Float64}}, ::Vararg{Any,N} where N\u001b[1m)\u001b[22m\u001b[22m at \u001b[1m/home/juser/.julia/v0.6/PyCall/src/PyCall.jl:618\u001b[22m\u001b[22m",
      " [7] \u001b[1m(::PyCall.#kw##pycall)\u001b[22m\u001b[22m\u001b[1m(\u001b[22m\u001b[22m::Array{Any,1}, ::PyCall.#pycall, ::PyCall.PyObject, ::Type{PyCall.PyAny}, ::StepRangeLen{Float64,Base.TwicePrecision{Float64},Base.TwicePrecision{Float64}}, ::Vararg{Any,N} where N\u001b[1m)\u001b[22m\u001b[22m at \u001b[1m./<missing>:0\u001b[22m\u001b[22m",
      " [8] \u001b[1m#plot#85\u001b[22m\u001b[22m\u001b[1m(\u001b[22m\u001b[22m::Array{Any,1}, ::Function, ::StepRangeLen{Float64,Base.TwicePrecision{Float64},Base.TwicePrecision{Float64}}, ::Vararg{Any,N} where N\u001b[1m)\u001b[22m\u001b[22m at \u001b[1m/opt/julia_packages/.julia/v0.6/PyPlot/src/PyPlot.jl:172\u001b[22m\u001b[22m",
      " [9] \u001b[1m(::PyPlot.#kw##plot)\u001b[22m\u001b[22m\u001b[1m(\u001b[22m\u001b[22m::Array{Any,1}, ::PyPlot.#plot, ::StepRangeLen{Float64,Base.TwicePrecision{Float64},Base.TwicePrecision{Float64}}, ::Vararg{Any,N} where N\u001b[1m)\u001b[22m\u001b[22m at \u001b[1m./<missing>:0\u001b[22m\u001b[22m"
     ]
    }
   ],
   "source": [
    "using PyPlot        #graficamos \n",
    "xlabel(\"t\")\n",
    "ylabel(\"x(t)\") \n",
    "t=linspace(0,8,1000)\n",
    "plot(t,f(1,t),label= \"Solución\", color= \"pink\")\n",
    "legend()\n",
    "plot(euler(f,1,0,8,0.5)[2],euler(f,1,0,8,0.5)[1],label= \"h=0.5\",\".\",color=\"purple\")\n",
    "legend()\n",
    "plot(euler(f,1,0,8,0.2)[2],euler(f,1,0,8,0.2)[1],label= \"h=0.2\",\".\",color=\"blue\")\n",
    "legend()\n",
    "plot(euler(f,1,0,8,0.1)[2],euler(f,1,0,8,0.1)[1],label= \"h=0.01\",\".\",color=\"green\")\n",
    "legend()"
   ]
  },
  {
   "cell_type": "code",
   "execution_count": null,
   "metadata": {
    "collapsed": true
   },
   "outputs": [],
   "source": [
    "euler(f,2,0,8,0.5);   #cambiamos los valores de h, ahora para x0=2\n",
    "euler(f,2,0,8,0.2);\n",
    "euler(f,2,0,8,0.1);"
   ]
  },
  {
   "cell_type": "markdown",
   "metadata": {},
   "source": [
    "__Ejercicio 2:__. ¿Qué sistema físico está modelado por $\\ddot{x} =\n",
    "-kx$?\n",
    "* Escriba la solución exacta en terminos de las condiciones iniciales $x(0)$ y $x'(0)$.\n",
    "\n",
    "\n",
    "A simple vista, uno podría pensar que para resolver este\n",
    "sistema uno debe desarrollar otro método para encontrar la\n",
    "solución a la ecuación diferencial del ejercicio pasado. Sin\n",
    "embargo, esto no es necesario.\n",
    "\n"
   ]
  },
  {
   "cell_type": "markdown",
   "metadata": {},
   "source": [
    "El sistema modelado es un resorte, ya que es la expresión de la ley de Hooke\n",
    "$$\\ddot{x}=-kx$$\n",
    "\n",
    "$$\\Rightarrow\\ddot{x}+kx=0$$\n",
    "\n",
    "Y eso puede verse como:\n",
    "$$\n",
    "\\lambda^2+k=0\n",
    "$$\n",
    "$$\\Rightarrow \\lambda=\\pm\\sqrt{-k}\n",
    "$$\n",
    "\n",
    "_Sabemos que, para este caso, la solución se ve como_ $x(t)= Ae^{\\sqrt{k}it}+Be^{-\\sqrt{k}it}$\n",
    "$$\\Rightarrow x(t)= Acos(\\sqrt{k}t)+Bsin(\\sqrt{k}t)$$\n",
    "\n",
    "\n",
    "_Para las condiciones iniciales:_ \n",
    "$$x(0)= Acos(0)+Bsin(0)=A \\hspace{.5cm}\n",
    "$$\n",
    "$$\\Rightarrow A=x(0)$$\n",
    "$$ x'(0)= -A\\sqrt{k}sin(\\sqrt{k}t)+B\\sqrt{k}cos(\\sqrt{k}t)=B\\sqrt{k}$$\n",
    "$$\\Rightarrow B=\\frac{x'(0)}{\\sqrt{k}}$$\n",
    "_Sustituyendo en la solución:_\n",
    "$$\n",
    "x(t)= x(0)cos(\\sqrt{k}t)+\\frac{x'(0)}{\\sqrt{k}}sin(\\sqrt{k}t)$$\n",
    "\n"
   ]
  },
  {
   "cell_type": "markdown",
   "metadata": {},
   "source": [
    "__Ejercicio 3:__. Haz $u = \\dot{x}(t)$ y calcula la derivada de\n",
    "$u$ ¿qué obtienes y como se relaciona con el sistema\n",
    "original?\n",
    "\n",
    "Si llevaste a cabo el ejercicio anterior, te darás cuenta\n",
    "que terminas con un sistema acoplado de ecuaciones\n",
    "diferenciales:\n",
    "\n",
    "$$\n",
    "\\dot{u} = -kx, \\dot{x} = u,\n",
    "$$\n",
    "\n",
    "Con este sistema acoplado puedes utilizar el método de\n",
    "Euler en su forma vectorial:\n",
    "$$\\frac{d\\vec x}{dt}=\\vec f(\\vec x,t),$$\n",
    "donde $\\vec x=(x,u)$, y para este caso es facil ver que $\\vec f(\\vec x,t)=(u,-kx).$"
   ]
  },
  {
   "cell_type": "markdown",
   "metadata": {},
   "source": [
    "\n",
    "Haciendo\n",
    "$$u(t)=\\dot{x}(t)$$\n",
    "$$\\Rightarrow \\dot{u}(t)=\\ddot{x}(t)=-kx(t)$$, \n",
    "lo cual puede resolverse con el siguiente sistema de ecuaciones diferenciales:_\n",
    "\n",
    "$$\n",
    "\\left\\{\\begin{array}{ll}\n",
    "\\dot{x(t)}=u,\\hspace{3cm}  x_{0}=x(0)\\\\\n",
    "\\dot{u(t)}=-kx(t),\\hspace{2cm}  u_{0}=\\dot{x}(0)\n",
    "\\end{array}\\right.\n",
    "$$\n",
    "\n",
    "Podemos usar la forma vectorial del método \n",
    "$$\\frac{d\\mathbf{x}}{dt}=\\boldsymbol{f}(\\mathbf{x},t),\\Rightarrow $$\n",
    "$$\\left\\{\\begin{array}{ll}\n",
    "x_{k+1}=x_{k}+hu_{k}, \\hspace{3.5cm} x_{0}=x(t_{0})\\\\\n",
    "u_{k+1}=u_{k}+hf(x_{k},u_{k},t_{k}), \\hspace{2cm} u_{0}=\\dot{x}(t_{0})\n",
    "\\end{array}\\right.$$"
   ]
  },
  {
   "cell_type": "markdown",
   "metadata": {},
   "source": [
    "__Ejercicio 4:__. Obten la solución del sistema $\\ddot{x} = -kx(t)$\n",
    "utilizando lo escrito arriba y el método de Euler.\n",
    "\n",
    "* Para utilizar el método de Euler, impleméntelo para sistemas de más de una dimensión."
   ]
  },
  {
   "cell_type": "code",
   "execution_count": null,
   "metadata": {
    "collapsed": true
   },
   "outputs": [],
   "source": [
    "function euler2(f,xo,uo,list2)\n",
    "    listx2=[]\n",
    "    listx2=xo\n",
    "    push!(list2,x)\n",
    "    listu[]\n",
    "    listu=uo\n",
    "    push!(listu,u)\n",
    "    h=linspace #no estoy segura \n",
    "    \n",
    "    for i in 1:k-1\n",
    "        x[i+1] = x[i] + h*u[i]                       \n",
    "        u[i+1] = u[i] + h*f(x[i],u[i],list2[i]) \n",
    "        push!(listx2,x)\n",
    "        push!(listu,u)\n",
    "    end\n",
    "    \n",
    "    return listx2\n",
    "end\n"
   ]
  },
  {
   "cell_type": "markdown",
   "metadata": {},
   "source": [
    "__Ejercicio 5:__ Aplicar el método de Euler para resolver la ecuación:\n",
    "$$\\frac{dx}{dt}=\\frac{2x-18 t}{1+t}.$$\n",
    "Compare su respuesta con la solución exacta: $4+8t-5t^2$. notén que $x(0)=4$."
   ]
  },
  {
   "cell_type": "code",
   "execution_count": null,
   "metadata": {
    "collapsed": true
   },
   "outputs": [],
   "source": [
    "function r(x)\n",
    "    return (2x-18t)/(1+t)\n",
    "end"
   ]
  },
  {
   "cell_type": "code",
   "execution_count": null,
   "metadata": {
    "collapsed": true
   },
   "outputs": [],
   "source": []
  }
 ],
 "metadata": {
  "kernelspec": {
   "display_name": "Julia 0.6.0",
   "language": "julia",
   "name": "julia-0.6"
  },
  "language_info": {
   "file_extension": ".jl",
   "mimetype": "application/julia",
   "name": "julia",
   "version": "0.6.0"
  }
 },
 "nbformat": 4,
 "nbformat_minor": 2
}
