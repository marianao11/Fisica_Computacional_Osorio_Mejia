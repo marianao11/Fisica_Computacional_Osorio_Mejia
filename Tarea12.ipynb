{
 "cells": [
  {
   "cell_type": "markdown",
   "metadata": {},
   "source": [
    "# Ejercicio 1 #"
   ]
  },
  {
   "cell_type": "code",
   "execution_count": 1,
   "metadata": {},
   "outputs": [
    {
     "data": {
      "text/plain": [
       "euler (generic function with 1 method)"
      ]
     },
     "execution_count": 1,
     "metadata": {},
     "output_type": "execute_result"
    }
   ],
   "source": [
    "function euler(f,xo,to,tf,h)\n",
    "    x=xo\n",
    "    listx=[]\n",
    "    push!(listx,x)\n",
    "    listt=linspace(to,tf,round((tf-to)/h+1))\n",
    "    \n",
    "    \n",
    "    for i in 1:length(listt)\n",
    "        x=x+f(x,listt[i])*h\n",
    "        t=i*h\n",
    "        push!(listx,x)\n",
    "    end\n",
    "    \n",
    "    return listx, listt\n",
    "end"
   ]
  },
  {
   "cell_type": "markdown",
   "metadata": {},
   "source": [
    "# Ejercicio 2 #"
   ]
  },
  {
   "cell_type": "markdown",
   "metadata": {},
   "source": [
    "Implementar Euler: Regla del punto medio. $$x_{n+1}=x_n+hf\\left(x_n+\\frac{h}{2}f(x_n,t_n),t_{n+1/2}\\right).$$ en donde $\\displaystyle t_{k+\\frac{1}{2}}=t_{k}+\\frac{h}{2}$. Mientras que $\\displaystyle\\tilde{x}_{k+\\frac{1}{2}}=x_{k}+\\frac{h}{2}f(x_{k},t_{k})$."
   ]
  },
  {
   "cell_type": "code",
   "execution_count": 3,
   "metadata": {},
   "outputs": [
    {
     "data": {
      "text/plain": [
       "eulerMedio (generic function with 1 method)"
      ]
     },
     "execution_count": 3,
     "metadata": {},
     "output_type": "execute_result"
    }
   ],
   "source": [
    "function eulerMedio(f,xo,to,tf,h)\n",
    "    x=xo\n",
    "    listx=[]\n",
    "    push!(listx,x)\n",
    "    listt=linspace(to,tf,round((tf-to)/h+1))\n",
    "    \n",
    "    \n",
    "    for i in 1:length(listt)\n",
    "         xo=xo+h*f(xo+(0.5*h)f(xo,listt[i-1]),listt[i-1]+h/2)\n",
    "        listx[i]=xo\n",
    "        t=i*h\n",
    "        \n",
    "    end\n",
    "    \n",
    "    return listx, listt\n",
    "end"
   ]
  }
 ],
 "metadata": {
  "kernelspec": {
   "display_name": "Julia 0.5.2",
   "language": "julia",
   "name": "julia-0.5"
  },
  "language_info": {
   "file_extension": ".jl",
   "mimetype": "application/julia",
   "name": "julia",
   "version": "0.5.2"
  }
 },
 "nbformat": 4,
 "nbformat_minor": 2
}
