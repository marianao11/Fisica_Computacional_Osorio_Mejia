{
 "cells": [
  {
   "cell_type": "markdown",
   "metadata": {},
   "source": [
    "$Ejercicio1:$ Escriba la forma del operador laplaciano utilizando diferencias finitas simétricas. Es decir, discretice: $\\nabla^2=\\frac{\\partial^2 f}{\\partial x^2}+\\frac{\\partial^2 f}{\\partial y^2}+\\frac{\\partial^2 f}{\\partial z^2}$"
   ]
  },
  {
   "cell_type": "markdown",
   "metadata": {},
   "source": [
    "Sabemos que la derivada de orden 2 respecto a x,y,z de $f$ son \n",
    "\n",
    "$$ \\frac{d^2f}{dx^2}=\\frac{f(x+h,y,z)-2f(x,y,z)+f(x-h,y,z)}{h^2}   (1) $$\n",
    "\n",
    "\n",
    "$$ \\frac{d^2f}{dy^2}=\\frac{f(x,y+h,z)-2f(x,y,z)+f(x,y-h,z)}{h^2}   (2) $$\n",
    "\n",
    "\n",
    "$$ \\frac{d^2f}{dz^2}=\\frac{f(x,y,z+h)-2f(x,y,z)+f(x,y,z-h)}{h^2}   (3) $$"
   ]
  },
  {
   "cell_type": "markdown",
   "metadata": {},
   "source": [
    "_Y nabla está definido como las sumas de las segundas derivadas, entonces..._\n",
    "\n",
    "$$\\nabla^2=\\frac{\\partial^2 f}{\\partial x^2}+\\frac{\\partial^2 f}{\\partial y^2}+\\frac{\\partial^2 f}{\\partial z^2}=\\frac{f(x+h,y,z)-2f(x,y,z)+f(x-h,y,z)}{h^2}+\\frac{f(x,y+h,z)-2f(x,y,z)+f(x,y-h,z)}{h^2}+\\frac{f(x,y,z+h)-2f(x,y,z)+f(x,y,z-h)}{h^2}$$\n",
    " "
   ]
  },
  {
   "cell_type": "markdown",
   "metadata": {},
   "source": [
    "$Ejercicio 2$ (condiciones a la frontera de Dirichlet). Discretice la ecuación $$ \\frac{d^2f}{dx^2}, $$ en el intervalo $[0,1]$, y aplicando el operador laplaciano discretizado obtenga el sistema de ecuaciones algebraicas lineales correspondientes al problema de Dirichlet: $f(0) = a$ y $f(1) = b$ dividiendo el intervalo $[0,1]$ en $5$ puntos separados por $h$.\n",
    "Escriba el sistema lineal de ecuaciones que surge, usando $\\LaTeX$ en el notebook de la tarea que sigue."
   ]
  },
  {
   "cell_type": "markdown",
   "metadata": {},
   "source": [
    "Por las condiciones de Dirichlet, sabemos que $$f(0)=f(x_1)=a$$ y $$f(1)=f(x_5)=b$$"
   ]
  },
  {
   "cell_type": "markdown",
   "metadata": {},
   "source": [
    "Y de (1) podemos ver que \n",
    "\n",
    "$$f(x_1)-2f(x_2)+f(x_3)=0$$ \n",
    "\n",
    "$$f(x_2)-2f(x_3)+f(x_4)=0$$ \n",
    "\n",
    "$$f(x_3)-2f(x_4)+f(x_5)=0$$"
   ]
  },
  {
   "cell_type": "markdown",
   "metadata": {},
   "source": [
    "$$\\left(\\begin{array}{a} 1 & 0 & 0 & 0 & 0 \\\\ 1 & -2 & 1 & 0 & 0 \\\\ 0 & 1 & -2 & 1 & 0 \\\\ 0 & 0 & 1 & -2 & 1 \\\\ 0 & 0 & 0 & 0 & 1 \\\\ \\end{array} \\right) \\left( \\begin{array}{x} f(x_1)\\\\ f(x_2)\\\\ f(x_3)\\\\ f(x_4)\\\\ f(x_5)\\\\ \\end{array} \\right) = \\left( \\begin{array}{b} a\\\\ 0\\\\ 0\\\\ 0\\\\ b\\\\ \\end{array} \\right)$$"
   ]
  },
  {
   "cell_type": "markdown",
   "metadata": {},
   "source": [
    "$Ejercicio 3$ (condiciones a la frontera de Neumann). Hacer lo mismo para condiciones de Neumann, es decir, fijando en los extremos el valor de la primera derivada de la función. Para esto utilice la derivada hacia adeltante en las orillas, es decir, si $f'(0)=a$ y $f'(1)=b$, entonces $(f_1-f_0)/h=a$, etc. No olvide que debe resultar un sistema de ecuación cuya dimensión sea el número de incognitas.\n",
    "Escriba el sistema lineal de ecuaciones que surge, usando $\\LaTeX$ en el notebook de la tarea que sigue."
   ]
  },
  {
   "cell_type": "markdown",
   "metadata": {},
   "source": [
    "Usando el resltado anterior de:\n",
    "$$f(x_{1})+2f(x_{2})+f(x_{3})=0$$$$f(x_{2})+2f(x_{3})+f(x_{4})=0$$$$f(x_{3})+2f(x_{4})+f(x_{5})=0$$\n"
   ]
  },
  {
   "cell_type": "markdown",
   "metadata": {},
   "source": [
    "donde $f'(0)=a$ y  $f'(1)=b$, entonces \n",
    "$$a=\\frac{f(x_2)-f(x_1)}{\\frac{1}{5}}=f'(x_{1})$$\n",
    "\n",
    "con $h=\\frac{1}{5}$, entonces $$f(x_{1})=f(x_2)-\\frac{a}{5}$$ \n",
    "y\n",
    "$$b=\\frac{f(x_5)-f(x_4)}{\\frac{1}{5}}=f'(x_{5})$$"
   ]
  },
  {
   "cell_type": "markdown",
   "metadata": {},
   "source": [
    "y llegamos a que:  $f(x_{5})=f(x_4)+\\frac{b}{5}$\n",
    "sustituyendo en el sistema llegamos a que: $$f(x_2)-\\frac{a}{5}+2f(x_{2})+f(x_{3})=0$$$$f(x_{2})+2f(x_{3})+f(x_{4})=0$$$$f(x_{3})+2f(x_{4})-f(x_4)+\\frac{a}{5}=0$$$$\\space$$$$3f(x_{2})+f(x_{3})=\\frac{a}{5}$$$$f(x_{2})+2f(x_{3})+f(x_{4})=0$$$$f(x_{3})+f(x_{4})=-\\frac{a}{5}$$"
   ]
  },
  {
   "cell_type": "markdown",
   "metadata": {},
   "source": [
    "$Ejercicio 4$ (indexación). Julia es más eficiente si se utiliza un único índice para acceder a los elementos de una matriz, además que puede simplificar algunos problemas. Escribe una función $\\phi$ que traduzca un par de índices $i,j$ a un único índice $k$, es decir: $$\\phi: (i,j) \\mapsto k.$$ También encuentren $\\phi^{-1}$. Note que $\\phi$ deberá depender de las dimensiones del arreglo, por lo menos de una de ellas."
   ]
  },
  {
   "cell_type": "code",
   "execution_count": 1,
   "metadata": {},
   "outputs": [
    {
     "data": {
      "text/plain": [
       "ind (generic function with 1 method)"
      ]
     },
     "execution_count": 1,
     "metadata": {},
     "output_type": "execute_result"
    }
   ],
   "source": [
    "function ind(i,j,columnas)  #Función para traducción de indices\n",
    "    return (i-1)*columnas + j\n",
    "    end"
   ]
  },
  {
   "cell_type": "code",
   "execution_count": 5,
   "metadata": {},
   "outputs": [
    {
     "name": "stdout",
     "output_type": "stream",
     "text": [
      "i = 1 j = 1 k= 1\n",
      "i = 1 j = 2 k= 2\n",
      "i = 1 j = 3 k= 3\n",
      "i = 1 j = 4 k= 4\n",
      "i = 2 j = 1 k= 5\n",
      "i = 2 j = 2 k= 6\n",
      "i = 2 j = 3 k= 7\n",
      "i = 2 j = 4 k= 8\n"
     ]
    }
   ],
   "source": [
    "Z = [1 2 3 4 ; 5 6 7 8]  #Prueba del ejercicio\n",
    "A = size(Z,1)\n",
    "B = size(Z,2)\n",
    "\n",
    "for i in 1:A\n",
    "    for j in 1:B\n",
    "    println(\"i = \",i ,\" j = \", j, \" k= \",ind(i,j,B))    \n",
    "    end\n",
    "end"
   ]
  },
  {
   "cell_type": "code",
   "execution_count": 6,
   "metadata": {},
   "outputs": [
    {
     "data": {
      "text/plain": [
       "indinv (generic function with 1 method)"
      ]
     },
     "execution_count": 6,
     "metadata": {},
     "output_type": "execute_result"
    }
   ],
   "source": [
    "function indinv(columnas,indice)\n",
    "    if(indice%columnas!=0)\n",
    "        j = indice%columnas\n",
    "    else\n",
    "        j = columnas\n",
    "    end\n",
    "    i = (indice-j+columnas)/columnas\n",
    "    return[i,j]\n",
    "    end\n"
   ]
  },
  {
   "cell_type": "code",
   "execution_count": 8,
   "metadata": {},
   "outputs": [
    {
     "name": "stdout",
     "output_type": "stream",
     "text": [
      "k = 1 i = 1.0 j = 1.0\n",
      "k = 2 i = 1.0 j = 2.0\n",
      "k = 3 i = 1.0 j = 3.0\n",
      "k = 4 i = 1.0 j = 4.0\n",
      "k = 5 i = 2.0 j = 1.0\n",
      "k = 6 i = 2.0 j = 2.0\n",
      "k = 7 i = 2.0 j = 3.0\n",
      "k = 8 i = 2.0 j = 4.0\n"
     ]
    }
   ],
   "source": [
    "k = [1 2 3 4 5 6 7 8 ]\n",
    "for indices in k\n",
    "    inverse = indinv(B,indices)\n",
    "    println(\"k = \", indices , \" i = \",inverse[1], \" j = \", inverse[2]) \n",
    "end"
   ]
  }
 ],
 "metadata": {
  "kernelspec": {
   "display_name": "Julia 0.5.2",
   "language": "julia",
   "name": "julia-0.5"
  },
  "language_info": {
   "file_extension": ".jl",
   "mimetype": "application/julia",
   "name": "julia",
   "version": "0.5.2"
  }
 },
 "nbformat": 4,
 "nbformat_minor": 2
}
