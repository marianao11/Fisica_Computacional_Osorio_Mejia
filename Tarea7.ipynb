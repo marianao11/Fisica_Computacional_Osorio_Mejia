{
 "cells": [
  {
   "cell_type": "markdown",
   "metadata": {},
   "source": [
    "# Método de Simpson "
   ]
  },
  {
   "cell_type": "code",
   "execution_count": 3,
   "metadata": {
    "collapsed": false
   },
   "outputs": [
    {
     "data": {
      "text/plain": [
       "simpson (generic function with 1 method)"
      ]
     },
     "execution_count": 3,
     "metadata": {},
     "output_type": "execute_result"
    }
   ],
   "source": [
    "function simpson(f,a,b,N)\n",
    "    x=linspace(a,b,N)       #uso linspace para que le asigne valores a x entre a y b con N divisiones entre ellos\n",
    "    sum=0\n",
    "    \n",
    "    for i in 1:N-1\n",
    "        a=x[i]\n",
    "        b=x[i+1]\n",
    "        \n",
    "        sum=sum+(((b-a)/6)*(f(a)+4f((a+b)/2)+f(b)))   #la expresion de la suma dada por el método de Simpsom   \n",
    "    end \n",
    "    \n",
    "    return sum    #regrese el valor de la aproximacion \n",
    "end"
   ]
  },
  {
   "cell_type": "code",
   "execution_count": 4,
   "metadata": {
    "collapsed": false
   },
   "outputs": [
    {
     "data": {
      "text/plain": [
       "f (generic function with 1 method)"
      ]
     },
     "execution_count": 4,
     "metadata": {},
     "output_type": "execute_result"
    }
   ],
   "source": [
    "function f(x)          #sea f(x)=x, una función sencilla \n",
    "    return x\n",
    "end"
   ]
  },
  {
   "cell_type": "code",
   "execution_count": 5,
   "metadata": {
    "collapsed": false
   },
   "outputs": [
    {
     "data": {
      "text/plain": [
       "49.50000000000001"
      ]
     },
     "execution_count": 5,
     "metadata": {},
     "output_type": "execute_result"
    }
   ],
   "source": [
    "simpson(f,1,10,120)   # :)"
   ]
  },
  {
   "cell_type": "markdown",
   "metadata": {
    "collapsed": true
   },
   "source": [
    "# Interpolación polinomial en la forma de Lagrange "
   ]
  },
  {
   "cell_type": "code",
   "execution_count": 6,
   "metadata": {
    "collapsed": false
   },
   "outputs": [
    {
     "ename": "LoadError",
     "evalue": "\u001b[91msyntax: incomplete: \"for\" at In[6]:3 requires end\u001b[39m",
     "output_type": "error",
     "traceback": [
      "\u001b[91msyntax: incomplete: \"for\" at In[6]:3 requires end\u001b[39m",
      ""
     ]
    }
   ],
   "source": [
    "function lagrange(x,y,xo,N)\n",
    "    A=0\n",
    "    for i in N\n",
    "        l=y[i]"
   ]
  },
  {
   "cell_type": "markdown",
   "metadata": {},
   "source": [
    "## Perdón por la tardanza pero nunca le entendí bien a Lagrange y para cuando lo iba a enviar, cerca de las 12, se fue la luz en mi casa :/"
   ]
  },
  {
   "cell_type": "code",
   "execution_count": null,
   "metadata": {
    "collapsed": true
   },
   "outputs": [],
   "source": []
  }
 ],
 "metadata": {
  "kernelspec": {
   "display_name": "Julia 0.6.0",
   "language": "julia",
   "name": "julia-0.6"
  },
  "language_info": {
   "file_extension": ".jl",
   "mimetype": "application/julia",
   "name": "julia",
   "version": "0.6.0"
  }
 },
 "nbformat": 4,
 "nbformat_minor": 2
}
