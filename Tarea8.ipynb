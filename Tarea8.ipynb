{
 "cells": [
  {
   "cell_type": "markdown",
   "metadata": {
    "collapsed": true
   },
   "source": [
    "Ejercicio 1. Escribe una función derivadaNumerica que reciba: una función $f\\colon \\mathbb{R}\\mapsto\\mathbb{R}$, un punto $x_0\\in\\mathbb{R}$ y un número $h\\in\\mathbb{R}$. Esta función deberá calcular una aproximación a la derivada utilizando la definición indicada arriba ignorando la parte del límite. Es decir, algo como: derivada_numerica(f,x,h).\n",
    "Un analisis bastante útil para saber que tan buena es la derivada numérica, se puede llevar a cabo calculando la serie de potencias en $h$ de la diferencia finita de $f$:\n",
    "$$f(x+h)=f{\\left (x \\right )} + h \\left. \\frac{d}{d \\xi} f{\\left (\\xi \\right )} \\right|_{\\substack{ \\xi=x }} + \\frac{h^{2}}{2} \\left. \\frac{d^{2}}{d \\xi^{2}}  f{\\left (\\xi \\right )} \\right|_{\\substack{ \\xi=x }} + \\frac{h^{3}}{6} \\left. \\frac{d^{3}}{d \\xi^{3}}  f{\\left (\\xi \\right )} \\right|_{\\substack{ \\xi=x }} + \\mathcal{O}\\left(h^{4}\\right).$$\n",
    "Algo que se debe notar es que podemos reorganizar la ecuación anterior como sigue: $$\\frac{\\Delta f(x,h)}{h}-f'(x)=\\mathcal{O}(h),$$ donde $\\Delta f(x,h)=f(x+h)-f(x)$.\n",
    "La conclusión que se saca de aqui es que la derivada numérica hacia adelante tiene un error del orden de $h$."
   ]
  },
  {
   "cell_type": "code",
   "execution_count": 2,
   "metadata": {
    "collapsed": false
   },
   "outputs": [
    {
     "data": {
      "text/plain": [
       "derivadanum (generic function with 1 method)"
      ]
     },
     "execution_count": 2,
     "metadata": {},
     "output_type": "execute_result"
    }
   ],
   "source": [
    "function derivadanum(f,x,h)\n",
    "    return (f(x+h)-f(x))/h\n",
    "end\n",
    "    "
   ]
  },
  {
   "cell_type": "code",
   "execution_count": 7,
   "metadata": {
    "collapsed": false
   },
   "outputs": [
    {
     "data": {
      "text/plain": [
       "f (generic function with 1 method)"
      ]
     },
     "execution_count": 7,
     "metadata": {},
     "output_type": "execute_result"
    }
   ],
   "source": [
    "function f(x)\n",
    "    return x^4\n",
    "end"
   ]
  },
  {
   "cell_type": "code",
   "execution_count": 9,
   "metadata": {
    "collapsed": false
   },
   "outputs": [
    {
     "data": {
      "text/plain": [
       "32.00000264769187"
      ]
     },
     "execution_count": 9,
     "metadata": {},
     "output_type": "execute_result"
    }
   ],
   "source": [
    "derivadanum(f,2,0.0000000001)\n"
   ]
  },
  {
   "cell_type": "markdown",
   "metadata": {
    "collapsed": true
   },
   "source": [
    "Ejercicio 7: Explotar la relación $\\delta_h=\\Delta_h-\\Delta_{-h}$, donde $\\delta_h:f(x)\\mapsto f(x+h)-f(x-h)$, para encontrar cual es la función $\\theta$ que relaciona a $\\delta_h$ con el operador derivada exacta, es decir: $$\\delta_h=\\theta\\left(h\\left. \\frac{d}{d\\xi}\\right|_{\\xi=x}\\right)$$\n",
    "Una vez que la encuentren, despejen $\\left. \\frac{d}{d\\xi}\\right|_{\\xi=x}$ y calculen la serie de Taylor de mánera similar a lo mostrado en las ecuaciones 3 y 4."
   ]
  },
  {
   "cell_type": "markdown",
   "metadata": {
    "collapsed": true
   },
   "source": [
    "Sabemos que $\\Delta_h$, se define como:\n",
    "$$\\Delta_h:f \\mapsto f(x+h)-f(x)=\\Delta f(x,h).$$"
   ]
  },
  {
   "cell_type": "markdown",
   "metadata": {},
   "source": [
    "Y por lo visto en clase sabemos que \n",
    "$$\\Delta_h= exp\\left(h\\left. \\frac{d}{d\\xi}\\right|_{\\xi=x}\\right)-1$$\n",
    "$$\\Delta_-h= exp\\left(-h\\left. \\frac{d}{d\\xi}\\right|_{\\xi=x}\\right)-1$$"
   ]
  },
  {
   "cell_type": "markdown",
   "metadata": {},
   "source": [
    "Entonces\n",
    "$$\\delta_h=exp\\left(h\\left. \\frac{d}{d\\xi}\\right|_{\\xi=x})-1)-(exp(-h\\left. \\frac{d}{d\\xi}\\right|_{\\xi=x})-1\\right)$$\n",
    "$$\\delta_h=exp\\left(h\\left. \\frac{d}{d\\xi}\\right|_{\\xi=x})-exp(-h\\left. \\frac{d}{d\\xi}\\right|_{\\xi=x}\\right)$$"
   ]
  },
  {
   "cell_type": "markdown",
   "metadata": {},
   "source": [
    "Y sabemos que eso puede verse como $$\\delta_h= 2 sinh\\left(h\\left. \\frac{d}{d\\xi}\\right|_{\\xi=x}\\right)$$"
   ]
  },
  {
   "cell_type": "markdown",
   "metadata": {},
   "source": [
    "Despejando, tenemos \n",
    "$$\\left. \\frac{d}{d\\xi}\\right|_{\\xi=x}=\\frac{sinh^{-1}\\left(\\frac{\\delta_h}{2}\\right)}{h}$$"
   ]
  },
  {
   "cell_type": "markdown",
   "metadata": {},
   "source": [
    "Finalmente la serie de Taylor se ve de la siguiente manera\n",
    "$$ \\left. \\frac{d}{d\\xi}\\right|_{\\xi=x}=\\frac{1}{h}\\sum_{n=0}^{\\infty}\\left(\\frac{(-1)^{n}(2n)!}{2^{2n}(n!)^{2}}\\right)\\left(\\frac{(\\frac{\\delta_h}{2})^{2n+1}}{2n+1}\\right)$$"
   ]
  }
 ],
 "metadata": {
  "kernelspec": {
   "display_name": "Julia 0.6.0",
   "language": "julia",
   "name": "julia-0.6"
  },
  "language_info": {
   "file_extension": ".jl",
   "mimetype": "application/julia",
   "name": "julia",
   "version": "0.6.0"
  }
 },
 "nbformat": 4,
 "nbformat_minor": 2
}
