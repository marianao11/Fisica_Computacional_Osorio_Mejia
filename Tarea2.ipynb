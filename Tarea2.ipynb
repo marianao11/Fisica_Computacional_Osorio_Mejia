{
 "cells": [
  {
   "cell_type": "code",
   "execution_count": 21,
   "metadata": {
    "collapsed": false
   },
   "outputs": [
    {
     "data": {
      "text/plain": [
       "f (generic function with 1 method)"
      ]
     },
     "execution_count": 21,
     "metadata": {},
     "output_type": "execute_result"
    }
   ],
   "source": [
    "function f(x)\n",
    "    A::float \n",
    "    return (x)tan(x)-(A-x^2)^(1/2)\n",
    "end\n"
   ]
  },
  {
   "cell_type": "code",
   "execution_count": 22,
   "metadata": {
    "collapsed": false
   },
   "outputs": [
    {
     "data": {
      "text/plain": [
       "df (generic function with 1 method)"
      ]
     },
     "execution_count": 22,
     "metadata": {},
     "output_type": "execute_result"
    }
   ],
   "source": [
    "function df(x)\n",
    "    return tan(x)+x*sec^2(x)-((-2*x)/2((A-x^2)^(1/2)))\n",
    "end"
   ]
  },
  {
   "cell_type": "code",
   "execution_count": 23,
   "metadata": {
    "collapsed": false
   },
   "outputs": [
    {
     "data": {
      "text/plain": [
       "Newton (generic function with 1 method)"
      ]
     },
     "execution_count": 23,
     "metadata": {},
     "output_type": "execute_result"
    }
   ],
   "source": [
    "#for i in 1:N\n",
    " #   xN+1=xN-(f(xN)/g(xN))\n",
    "\n",
    "\n",
    "\n",
    "#function Newton(f(x),g(x))\n",
    "#x=i\n",
    "#x1=i+1\n",
    "#for i in 1:N \n",
    " #   x1=x-(f(x)/df(x))\n",
    "\n",
    "\n",
    "\n",
    "function Newton(A,xo)\n",
    "    x=xo\n",
    "    y=xo+1\n",
    "    for xo in 1:100 \n",
    "        y=x-(f(x)/df(x))\n",
    "        return y \n",
    "    end \n",
    "end\n",
    "\n",
    "    \n"
   ]
  },
  {
   "cell_type": "code",
   "execution_count": 25,
   "metadata": {
    "collapsed": false
   },
   "outputs": [
    {
     "ename": "LoadError",
     "evalue": "\u001b[91mUndefVarError: A not defined\u001b[39m",
     "output_type": "error",
     "traceback": [
      "\u001b[91mUndefVarError: A not defined\u001b[39m",
      "",
      "Stacktrace:",
      " [1] \u001b[1mf\u001b[22m\u001b[22m\u001b[1m(\u001b[22m\u001b[22m::Float64\u001b[1m)\u001b[22m\u001b[22m at \u001b[1m./In[21]:2\u001b[22m\u001b[22m",
      " [2] \u001b[1mNewton\u001b[22m\u001b[22m\u001b[1m(\u001b[22m\u001b[22m::Int64, ::Float64\u001b[1m)\u001b[22m\u001b[22m at \u001b[1m./In[23]:18\u001b[22m\u001b[22m"
     ]
    }
   ],
   "source": [
    "Newton(10,0.1)"
   ]
  },
  {
   "cell_type": "code",
   "execution_count": null,
   "metadata": {
    "collapsed": true
   },
   "outputs": [],
   "source": []
  }
 ],
 "metadata": {
  "kernelspec": {
   "display_name": "Julia 0.6.0",
   "language": "julia",
   "name": "julia-0.6"
  },
  "language_info": {
   "file_extension": ".jl",
   "mimetype": "application/julia",
   "name": "julia",
   "version": "0.6.0"
  }
 },
 "nbformat": 4,
 "nbformat_minor": 2
}
