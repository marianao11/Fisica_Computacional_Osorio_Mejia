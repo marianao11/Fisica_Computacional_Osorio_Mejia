{
 "cells": [
  {
   "cell_type": "markdown",
   "metadata": {},
   "source": [
    "# Método del rectángulo"
   ]
  },
  {
   "cell_type": "markdown",
   "metadata": {},
   "source": [
    "__Ejercicio 1__: Implementar el método de integración del rectángulo. Deberán construir una _rutina_ que reciba una función y el tamaño de la diferencia finita, y devuelva el valor aproximado de la integral. Para hacer esto deberán dividir el intervalo de integración en segmentos pequeños y aplicar la formula de arriba."
   ]
  },
  {
   "cell_type": "code",
   "execution_count": 1,
   "metadata": {
    "collapsed": false
   },
   "outputs": [
    {
     "data": {
      "text/plain": [
       "rectangulo (generic function with 1 method)"
      ]
     },
     "execution_count": 1,
     "metadata": {},
     "output_type": "execute_result"
    }
   ],
   "source": [
    "function rectangulo(f,a,b,N)   \n",
    "    x=linspace(a,b,N)            #uso linspace para que le de valores a x entre a y b de N en N\n",
    "    intg=0                        #declaro intg empezando en 0 \n",
    "\n",
    "    for i in 1:N-1              #ciclo for que va de i=1 a la N-1 que de \n",
    "        a=x[i]                  #declaro que si a=xi => b sera el consecutivo \n",
    "        b=x[i+1]\n",
    "      \n",
    "       intg=intg+(b-a)*f((a+b)/2)  #intg sera la suma \n",
    "        \n",
    "    end \n",
    "    return intg                   #quiero obtener la suma ie. la aproximacion a la integral \n",
    "end"
   ]
  },
  {
   "cell_type": "code",
   "execution_count": 2,
   "metadata": {
    "collapsed": false
   },
   "outputs": [
    {
     "data": {
      "text/plain": [
       "f (generic function with 1 method)"
      ]
     },
     "execution_count": 2,
     "metadata": {},
     "output_type": "execute_result"
    }
   ],
   "source": [
    "function f(x)         #elijo f, en este caso x que es facilmente comprobable \n",
    "    return x\n",
    "end"
   ]
  },
  {
   "cell_type": "code",
   "execution_count": 11,
   "metadata": {
    "collapsed": false
   },
   "outputs": [
    {
     "data": {
      "text/plain": [
       "49.99999999999999"
      ]
     },
     "execution_count": 11,
     "metadata": {},
     "output_type": "execute_result"
    }
   ],
   "source": [
    "rectangulo(f,0,10,120)    #quiero que de 0 a 10, en 120 intervalos, me de la aproximacion a la integral de f(x)=x "
   ]
  },
  {
   "cell_type": "markdown",
   "metadata": {},
   "source": [
    "# Método del trapecio "
   ]
  },
  {
   "cell_type": "code",
   "execution_count": 8,
   "metadata": {
    "collapsed": false
   },
   "outputs": [
    {
     "data": {
      "text/plain": [
       "trapecio (generic function with 1 method)"
      ]
     },
     "execution_count": 8,
     "metadata": {},
     "output_type": "execute_result"
    }
   ],
   "source": [
    "function trapecio(f,a,b,N)\n",
    "    x=linspace(a,b,N)\n",
    "    sum=0\n",
    "    \n",
    "    for i in 1:N-1\n",
    "        a=x[i]\n",
    "        b=x[i+1]\n",
    "        \n",
    "        sum=sum+(b-a)*((f(a)+f(b))/2)      #analogo al método anterior pero utilizando el área de trapecios \n",
    "    end\n",
    "    return sum\n",
    "end"
   ]
  },
  {
   "cell_type": "code",
   "execution_count": 9,
   "metadata": {
    "collapsed": false
   },
   "outputs": [
    {
     "data": {
      "text/plain": [
       "50.0"
      ]
     },
     "execution_count": 9,
     "metadata": {},
     "output_type": "execute_result"
    }
   ],
   "source": [
    "trapecio(f,0,10,20)"
   ]
  },
  {
   "cell_type": "markdown",
   "metadata": {},
   "source": [
    "# Método de Simpson"
   ]
  },
  {
   "cell_type": "code",
   "execution_count": 6,
   "metadata": {
    "collapsed": false
   },
   "outputs": [
    {
     "data": {
      "text/plain": [
       "simpson (generic function with 1 method)"
      ]
     },
     "execution_count": 6,
     "metadata": {},
     "output_type": "execute_result"
    }
   ],
   "source": [
    "function simpson(f,a,b,N)\n",
    "    x=linspace(a,b,N)\n",
    "    sum=0\n",
    "    \n",
    "    for i in 1:N-1\n",
    "        a=x[i]\n",
    "        b=x[i+1]\n",
    "        \n",
    "        sum=sum+(((b-a)/6)*(f(a)+4f((a+b)/2)+f(b)))    #tambien es analogo pero cambiando la expresion de la suma dada                                                         por el método de Simpsom\n",
    "    end \n",
    "    return sum\n",
    "end"
   ]
  },
  {
   "cell_type": "code",
   "execution_count": 7,
   "metadata": {
    "collapsed": false
   },
   "outputs": [
    {
     "data": {
      "text/plain": [
       "49.50000000000001"
      ]
     },
     "execution_count": 7,
     "metadata": {},
     "output_type": "execute_result"
    }
   ],
   "source": [
    "simpson(f,1,10,120)"
   ]
  },
  {
   "cell_type": "markdown",
   "metadata": {},
   "source": [
    "# Interpolación polinomial en la forma de Lagrange "
   ]
  },
  {
   "cell_type": "markdown",
   "metadata": {},
   "source": [
    "Ejercicio 4: Implementar método de interpolación de Lagrange en Julia. La función deberá recibir la lista de puntos  (xk,yk)\n",
    " , note que es particularmente útil si los inputs son las listas de las  x\n",
    " 's y de las  y\n",
    " 's separadamente, es decir, de la misma forma en como la función plot recibe los argumentos; esto servira para verificar nuestros resultados.\n",
    "Interpole las funciones  cos(x)\n",
    " ,  cos^2(x)\n",
    "  tomando un arreglo de  10\n",
    "  puntos distribuidos uniformemente dentro del dominio  [0,23.14]\n",
    " , donde el primer punto sea  0\n",
    "  y el último  3.14\n",
    " .\n",
    "Interpole los los siguientes puntos: [(0,10),(2,-10),(3,-4),(4,0),(5,5),(6,20),(7,-1)]"
   ]
  },
  {
   "cell_type": "code",
   "execution_count": null,
   "metadata": {
    "collapsed": true
   },
   "outputs": [],
   "source": [
    "function lagrange(y,l,)"
   ]
  }
 ],
 "metadata": {
  "kernelspec": {
   "display_name": "Julia 0.6.0",
   "language": "julia",
   "name": "julia-0.6"
  },
  "language_info": {
   "file_extension": ".jl",
   "mimetype": "application/julia",
   "name": "julia",
   "version": "0.6.0"
  }
 },
 "nbformat": 4,
 "nbformat_minor": 2
}
