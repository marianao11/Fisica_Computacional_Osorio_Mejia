{
 "cells": [
  {
   "cell_type": "markdown",
   "metadata": {},
   "source": [
    "# Método de Riemann #"
   ]
  },
  {
   "cell_type": "markdown",
   "metadata": {},
   "source": [
    "Es una aproximación de una integral por una suma finita, comunmente utilizado para aproximar el área de funciones en una gráfica o longitudes de curvas, o encontrar la aproximación numérica para una integral definida. La suma se calcula dividiendo la region en rectángulos que forman la region a medir y calculando las áreas de dichos rectangulos. Las aproximaciones suelen ser mejores con particiones de igual tamaño,entonces el intervalo [a,b] en n intervalos\n",
    "$$ Δx=(\\frac{b-a} {n}) $$"
   ]
  },
  {
   "cell_type": "markdown",
   "metadata": {},
   "source": [
    "Sea f(x) la función a integrar, continua en el intervalo [a,b], la suma de Riemann nos permite definir la integral definida como"
   ]
  },
  {
   "cell_type": "markdown",
   "metadata": {},
   "source": [
    "$$\\int_a^b f(x)\\,dx \\approx \n",
    " \\lim_{n \\to \\infty} \\sum_{i=0}^{n-1} f(x_i)\\Delta(x_i) $$ "
   ]
  },
  {
   "cell_type": "markdown",
   "metadata": {},
   "source": [
    "# Método del trapecio #"
   ]
  },
  {
   "cell_type": "markdown",
   "metadata": {},
   "source": [
    "Es otro método para aproximar la integral definida, pero en este caso se aproxima el valor de la integral por el de una función lineal entra los puntos f(a) y f(b), que forman un trapecio. Por lo tanto obtenemos la expresión siguiente:"
   ]
  },
  {
   "cell_type": "markdown",
   "metadata": {},
   "source": [
    "$$\\int_a^b f(x)\\,dx \\approx (b-a) \\, (\\frac{f(a)+f(b)}{2})$$"
   ]
  },
  {
   "cell_type": "markdown",
   "metadata": {},
   "source": [
    "# Método de Simpson #"
   ]
  },
  {
   "cell_type": "markdown",
   "metadata": {},
   "source": [
    "Este método es similar a la regla del trapecio, sin embago, en este caso los intervalos de f no son polinomios de primer grado, si no de segundo grado. Entonces para obtener la integral utilizamos la siguiente expresión:\n"
   ]
  },
  {
   "cell_type": "markdown",
   "metadata": {},
   "source": [
    "\n",
    "$$\\int_{a}^{b} f(x)dx \\approx \\frac{h}{3}\\left[ f(x_{0}) + 2\\sum_{i=2}^{n/2}(x_{2i-2}) + 4\\sum_{i=1}^{n/2} f(x_{2i-1}) + f(x_{n}) \\right]$$"
   ]
  }
 ],
 "metadata": {
  "kernelspec": {
   "display_name": "Julia 0.5.2",
   "language": "julia",
   "name": "julia-0.5"
  },
  "language_info": {
   "file_extension": ".jl",
   "mimetype": "application/julia",
   "name": "julia",
   "version": "0.5.2"
  }
 },
 "nbformat": 4,
 "nbformat_minor": 2
}
